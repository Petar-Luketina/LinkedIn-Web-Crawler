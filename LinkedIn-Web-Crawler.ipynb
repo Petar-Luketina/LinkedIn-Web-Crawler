{
 "cells": [
  {
   "cell_type": "markdown",
   "metadata": {},
   "source": [
    "## From Desktop folder"
   ]
  },
  {
   "cell_type": "code",
   "execution_count": null,
   "metadata": {},
   "outputs": [],
   "source": [
    "# Importing Selenium, which is the library needed to run most of the code\n",
    "from selenium import webdriver\n",
    "from selenium.webdriver.common.keys import Keys\n",
    "import math\n",
    "import random\n",
    "import datetime\n",
    "from time import sleep\n",
    "from docx import Document\n",
    "\n",
    "# Finding the driver; the location must be found and inserted here.\n",
    "driver = webdriver.Firefox(executable_path= \"C:\\\\Users\\\\PetarLuketina\\\\Desktop\\\\LinkedIn-Web-Crawler\\\\geckodriver.exe\")\n",
    "\n",
    "\n",
    "# Setting the paramaters for the web browser\n",
    "profile = webdriver.FirefoxProfile()\n",
    "profile.set_preference(\"browser.cache.disk.enable\", False)\n",
    "profile.set_preference(\"browser.cache.memory.enable\", False)\n",
    "profile.set_preference(\"browser.cache.offline.enable\", False)\n",
    "profile.set_preference(\"network.http.use-cache\", False)\n",
    "profile.update_preferences()\n",
    "\n",
    "\n",
    "# URL to crawl\n",
    "driver.get(url = 'https://www.linkedin.com/')\n",
    "\n",
    "\n",
    "#Sleep haults the code from running. This allows the web browser to fully load before Selenium starts running\n",
    "sleep(1)"
   ]
  },
  {
   "cell_type": "code",
   "execution_count": null,
   "metadata": {},
   "outputs": [],
   "source": [
    "# Paramaters\n",
    "email = ''\n",
    "password = ''\n",
    "\n",
    "desired_job = 'Python'\n",
    "desired_location = 'Cleveland/Akron, Ohio Area'\n",
    "\n",
    "\n",
    "# List of locations that are too far from home\n",
    "locations_to_avoid = ['Akron, OH, US',\n",
    "                     'Kent, OH, US',\n",
    "                     'Elyria, OH, US',\n",
    "                     'Middlefield, OH, US',\n",
    "                     'Westlake, OH, US',\n",
    "                     'Fairlawn, OH, US', 'Fairlawn, Ohio, United States',\n",
    "                     'Middleburg Heights, OH, US',\n",
    "                     'Hudson, OH, US',\n",
    "                     'Lorain, OH, US',\n",
    "                     'Oberlin, OH, US',\n",
    "                     'Strongsville, OH, US',\n",
    "                     'Uniontown, OH, US',\n",
    "                     'Wooster, OH, US',\n",
    "                     'Sandusky, OH, US',\n",
    "                     'Rittman, OH, US',\n",
    "                     'North Olmsted, OH, US',\n",
    "                    ]\n",
    "\n",
    "\n",
    "# List of employers to avoid\n",
    "employers_to_avoid = ['OnShift',\n",
    "                     ]\n",
    "\n",
    "\n",
    "# List of keywords to avoid (that are used in the job title)\n",
    "keywords_to_avoid = ['c++', 'c ++', 'c + +',\n",
    "                     'c#', 'c #',\n",
    "                     '.net',\n",
    "                     'senior', 'sr', 'sr.',\n",
    "                     'hadoop',\n",
    "                     'java',\n",
    "                     'sas',\n",
    "                     'manager', 'management',\n",
    "                     'lead', 'leader',\n",
    "                     'security',\n",
    "                    ]"
   ]
  },
  {
   "cell_type": "code",
   "execution_count": null,
   "metadata": {
    "scrolled": true
   },
   "outputs": [],
   "source": [
    "# Hitting the 'Sign in' button\n",
    "sign_in = driver.find_element(by='link text', value='Sign in')\n",
    "sign_in.click()\n",
    "\n",
    "sleep(1)"
   ]
  },
  {
   "cell_type": "code",
   "execution_count": null,
   "metadata": {},
   "outputs": [],
   "source": [
    "# Finding the input fields to write username and password\n",
    "email_entry = driver.find_element(by='css selector', value='#username')\n",
    "password_entry = driver.find_element(by='css selector', value='#password')\n",
    "\n",
    "\n",
    "# Typing in the email while randomizing the wait-time between key strokes\n",
    "for letter in email:\n",
    "    sleep(random.uniform(.1, .4))\n",
    "    email_entry.send_keys(letter)\n",
    "\n",
    "    \n",
    "# Same deal for the password\n",
    "for letter in password:\n",
    "    sleep(random.uniform(.1, .4))\n",
    "    password_entry.send_keys(letter)\n",
    "\n",
    "    \n",
    "# Hitting the enter key\n",
    "password_entry.send_keys(Keys.RETURN)\n",
    "sleep(3)"
   ]
  },
  {
   "cell_type": "code",
   "execution_count": null,
   "metadata": {},
   "outputs": [],
   "source": [
    "# Opening the search dropdown\n",
    "search_bar = driver.find_element(by='css selector', value='input')\n",
    "search_bar.click()\n",
    "sleep(1)\n",
    "\n",
    "\n",
    "# Selecting \"Jobs\" to search\n",
    "jobs = driver.find_element(by='link text', value='Jobs')\n",
    "jobs.click()\n",
    "sleep(2)"
   ]
  },
  {
   "cell_type": "code",
   "execution_count": null,
   "metadata": {},
   "outputs": [],
   "source": [
    "# Finding the input bar with \"Search jobs\" inside of it\n",
    "role_input_element = '//input[@placeholder=\"Search jobs\"]'\n",
    "role = driver.find_element(by='xpath', value=role_input_element)\n",
    "\n",
    "\n",
    "# Inputting the job title to search\n",
    "for letter in desired_job:\n",
    "    sleep(random.uniform(.1, .35))\n",
    "    role.send_keys(letter)\n",
    "\n",
    "    \n",
    "# Inputting the location\n",
    "location_input_element = '//input[@placeholder=\"Search location\"]'\n",
    "location = driver.find_element(by='xpath', value=location_input_element)\n",
    "\n",
    "for letter in desired_location:\n",
    "    sleep(random.uniform(.1, .35))\n",
    "    location.send_keys(letter)\n",
    "    \n",
    "location.send_keys(Keys.RETURN)\n",
    "sleep(2)"
   ]
  },
  {
   "cell_type": "code",
   "execution_count": null,
   "metadata": {
    "scrolled": true
   },
   "outputs": [],
   "source": [
    "# Filtering for the specifics\n",
    "filter_button_element = '//*/header/div/div/ul/li[5]/button'\n",
    "filter_button = driver.find_element(by='xpath', value=filter_button_element)\n",
    "filter_button.click()"
   ]
  },
  {
   "cell_type": "code",
   "execution_count": null,
   "metadata": {},
   "outputs": [],
   "source": [
    "# Selects the date posted (preferably within the last month)\n",
    "past_month_element = '.ember-view ul > li:nth-child(3) > label > p'\n",
    "date_posted = driver.find_element(by='css selector', value=past_month_element)\n",
    "date_posted.click()\n",
    "\n",
    "full_time_element = '(//*[@class=\"ember-view\"]/ul/li[1]/label/p/span[1])[4]'\n",
    "job_type = driver.find_element(by='xpath', value=full_time_element)\n",
    "job_type.click()\n",
    "sleep(.5)\n",
    "\n",
    "entry_level_element = '(//*[@class=\"ember-view\"]/ul/li[2]/label/p/span[1])[9]'\n",
    "entry_level = driver.find_element(by='xpath', value=entry_level_element)\n",
    "entry_level.click()\n",
    "sleep(.5)\n",
    "\n",
    "associate_level_element = '(//*[@class=\"ember-view\"]/ul/li[3]/label/p/span[1])[9]'\n",
    "associate_level = driver.find_element(by='xpath', value=associate_level_element)\n",
    "associate_level.click()\n",
    "sleep(.5)"
   ]
  },
  {
   "cell_type": "code",
   "execution_count": null,
   "metadata": {},
   "outputs": [],
   "source": [
    "submit_element = '//artdeco-modal-header/div/div[2]/button[2]'\n",
    "apply_filters = driver.find_element(by='xpath', value=submit_element)\n",
    "apply_filters.click()\n",
    "sleep(2)"
   ]
  },
  {
   "cell_type": "code",
   "execution_count": null,
   "metadata": {},
   "outputs": [],
   "source": [
    "sort_by = driver.find_element(by='xpath', value='//*[@id=\"sort-by-select\"]')\n",
    "sort_by.click()\n",
    "sleep(.5)\n",
    "by_date = driver.find_element(by='xpath', value='//*[@id=\"sort-by-select-options\"]/li[2]')\n",
    "by_date.click()\n",
    "sleep(2)"
   ]
  },
  {
   "cell_type": "code",
   "execution_count": null,
   "metadata": {},
   "outputs": [],
   "source": [
    "# The job element\n",
    "job_element = '.jobs-search-results__list > li:nth-child({})'\n",
    "\n",
    "# The elements inside of the job element. These are relative, as indicated by the '.' in the xml path\n",
    "title_element = './div/artdeco-entity-lockup/artdeco-entity-lockup-content/h3/a'\n",
    "location_element = './div/artdeco-entity-lockup/artdeco-entity-lockup-content/h5'\n",
    "employer_element = './div/artdeco-entity-lockup/artdeco-entity-lockup-content/h4'\n",
    "\n",
    "# Total results returned from the search\n",
    "x_results = 'div.jobs-search-two-pane__alerts > div > div'"
   ]
  },
  {
   "cell_type": "code",
   "execution_count": null,
   "metadata": {},
   "outputs": [],
   "source": [
    "# Keeps track of which page of the listings we are on\n",
    "page_number = [1]\n",
    "\n",
    "def run_thru_listed_positions():\n",
    "    \n",
    "    # Iterates through the 25 listings on a single page\n",
    "    for i in range(1, 26):\n",
    "        try:\n",
    "            job = driver.find_element(by='css selector', value=job_element.format(i))\n",
    "\n",
    "            # Slowly brings the scroll wheel to the bottom. Only need for the first loop\n",
    "            if i % 3 == 0:\n",
    "                job.click()\n",
    "\n",
    "            evalute_job_listing(job)\n",
    "\n",
    "        # Runs only if there are no more job postings to iterate through\n",
    "        except:\n",
    "            pass\n",
    "\n",
    "    # Printing the current page then adding a +1 because we are going on the next page.\n",
    "    print('Page ' + str(page_number[0]) + '/' + str(pages) + ' complete...')\n",
    "    page_number[0] += 1\n",
    "    \n",
    "    # If the total pages is more than the page we are currently on,\n",
    "    # then we do not (and cannot) go to a next page OR if there are nire than 40 pages (which is the max on LinkedIn)\n",
    "    if page_number[0] <= pages and page_number[0] != 40:\n",
    "        next_page_element = '//*[@class=\"search-results-pagination-section\"]/artdeco-pagination/ul/li[{}]'\n",
    "        next_page = driver.find_element(by='xpath', value=next_page_element.format(page_number[0]))\n",
    "        next_page.click()\n",
    "        sleep(2)"
   ]
  },
  {
   "cell_type": "code",
   "execution_count": null,
   "metadata": {},
   "outputs": [],
   "source": [
    "found_desirable_positions = []\n",
    "\n",
    "def evalute_job_listing(job):\n",
    "    \n",
    "    title = job.find_element(by='xpath', value=title_element)\n",
    "    location = job.find_element(by='xpath', value=location_element)\n",
    "    employer = job.find_element(by='xpath', value=employer_element)\n",
    "    \n",
    "    if location.text not in locations_to_avoid:\n",
    "        status = True\n",
    "        \n",
    "        # Tries to find an employer. Strangely, some listings do not have an employer.\n",
    "        try:\n",
    "            if employer.text not in employers_to_avoid:\n",
    "                status = True\n",
    "            else:\n",
    "                return False\n",
    "        except:\n",
    "            # Any job listing without a company is automatically dismissed\n",
    "            return False\n",
    "        \n",
    "    else:\n",
    "        return False\n",
    "\n",
    "    if status == True:\n",
    "        # Iterates through the job title and makes sure those words are not in the \"key_words_avoided\" list\n",
    "        for keyword in (title.text).split():\n",
    "            if keyword.lower() not in keywords_to_avoid:\n",
    "                status = True\n",
    "            else:\n",
    "                return False\n",
    "\n",
    "    # If all the paramaters pass, the listing will be added to our 'found_desirable_positions' list\n",
    "    if status == True:\n",
    "        if job.text not in found_desirable_positions:\n",
    "            url = '\\n' + title.get_attribute('href')\n",
    "            found_desirable_positions.append(job.text + url)\n",
    "        "
   ]
  },
  {
   "cell_type": "code",
   "execution_count": null,
   "metadata": {},
   "outputs": [],
   "source": [
    "# Getting the document paramaters ready\n",
    "\n",
    "document = Document()\n",
    "\n",
    "currentDT = datetime.datetime.now()\n",
    "formatted_time = currentDT.strftime(\"%a, %b %d, %Y\")\n",
    "document.add_heading('LinkedIn Jobs for ' + str(formatted_time), 0)"
   ]
  },
  {
   "cell_type": "code",
   "execution_count": null,
   "metadata": {},
   "outputs": [],
   "source": [
    "# We find the number of results. Then [0:-8] takes off the \"results\" at the end and \"int()\" turns it into an integer\n",
    "results = int(driver.find_element(by='css selector', value=x_results).text[0:-8])\n",
    "\n",
    "# Finding how many pages need to be cycled through by dividing the result integer by 25; there are 25 listings per page\n",
    "pages = math.ceil(results/25)\n",
    "\n",
    "# Runs for every page with our desired job listing\n",
    "for i in range(0, pages):\n",
    "    run_thru_listed_positions()\n",
    "\n",
    "for listing in found_desirable_positions:\n",
    "    print('\\n' + listing)\n",
    "    document.add_paragraph(('\\n' + listing), style='List Number')"
   ]
  },
  {
   "cell_type": "code",
   "execution_count": null,
   "metadata": {},
   "outputs": [],
   "source": [
    "document.save('LinkedIn Jobs - ' + str(formatted_time) + '.docx')"
   ]
  }
 ],
 "metadata": {
  "kernelspec": {
   "display_name": "Python 3",
   "language": "python",
   "name": "python3"
  },
  "language_info": {
   "codemirror_mode": {
    "name": "ipython",
    "version": 3
   },
   "file_extension": ".py",
   "mimetype": "text/x-python",
   "name": "python",
   "nbconvert_exporter": "python",
   "pygments_lexer": "ipython3",
   "version": "3.7.1"
  }
 },
 "nbformat": 4,
 "nbformat_minor": 2
}
